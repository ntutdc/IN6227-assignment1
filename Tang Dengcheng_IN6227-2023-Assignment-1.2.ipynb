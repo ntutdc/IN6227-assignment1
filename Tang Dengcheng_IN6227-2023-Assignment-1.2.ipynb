{
 "cells": [
  {
   "cell_type": "markdown",
   "source": [
    "#IMPORT LIBRARY"
   ],
   "metadata": {
    "collapsed": false
   }
  },
  {
   "cell_type": "code",
   "execution_count": 209,
   "metadata": {
    "collapsed": true,
    "ExecuteTime": {
     "end_time": "2023-10-08T16:19:28.406131600Z",
     "start_time": "2023-10-08T16:19:28.369054200Z"
    }
   },
   "outputs": [],
   "source": [
    "import pandas as pd\n",
    "import numpy as np\n",
    "import matplotlib.pyplot as plt\n",
    "import seaborn as sns\n",
    "\n",
    "\n",
    "import time\n",
    "\n",
    "from sklearn.preprocessing import OneHotEncoder, LabelEncoder\n",
    "from sklearn.tree import DecisionTreeClassifier\n",
    "from sklearn.neighbors import KNeighborsClassifier\n",
    "from sklearn.metrics import accuracy_score, classification_report, confusion_matrix, roc_curve, roc_auc_score\n",
    "# from imblearn.combine import SMOTETomek"
   ]
  },
  {
   "cell_type": "markdown",
   "source": [
    "#Data Import"
   ],
   "metadata": {
    "collapsed": false
   }
  },
  {
   "cell_type": "code",
   "execution_count": null,
   "outputs": [],
   "source": [
    "data_URL = 'https://archive.ics.uci.edu/ml/machine-learning-databases/adult/adult.data'\n",
    "test_URL = 'https://archive.ics.uci.edu/ml/machine-learning-databases/adult/adult.test'\n",
    "columns_name = ['age', 'workclass', 'fnlwgt', 'education', 'education_num', 'marital_status',\n",
    "        'occupation', 'relationship', 'race', 'sex', 'capital_gain', 'capital_loss',\n",
    "        'hours_per_week', 'native_country', 'income']\n",
    "\n",
    "train_set = pd.read_csv(data_URL, names=columns_name)\n",
    "\n",
    "test_set = pd.read_csv(test_URL, names=columns_name, skiprows=1)"
   ],
   "metadata": {
    "collapsed": false,
    "is_executing": true
   }
  },
  {
   "cell_type": "markdown",
   "source": [
    "#Precessing and General info"
   ],
   "metadata": {
    "collapsed": false
   }
  },
  {
   "cell_type": "code",
   "execution_count": null,
   "outputs": [],
   "source": [
    "train_set.head()"
   ],
   "metadata": {
    "collapsed": false,
    "is_executing": true
   }
  },
  {
   "cell_type": "code",
   "execution_count": null,
   "outputs": [],
   "source": [
    "train_set.info()"
   ],
   "metadata": {
    "collapsed": false,
    "is_executing": true
   }
  },
  {
   "cell_type": "code",
   "execution_count": null,
   "outputs": [],
   "source": [
    "test_set.info()"
   ],
   "metadata": {
    "collapsed": false,
    "is_executing": true
   }
  },
  {
   "cell_type": "code",
   "execution_count": null,
   "outputs": [],
   "source": [
    "train_set.isnull().sum()"
   ],
   "metadata": {
    "collapsed": false,
    "is_executing": true
   }
  },
  {
   "cell_type": "code",
   "execution_count": null,
   "outputs": [],
   "source": [
    "test_set.isnull().sum()"
   ],
   "metadata": {
    "collapsed": false,
    "is_executing": true
   }
  },
  {
   "cell_type": "markdown",
   "source": [
    "#Visualization"
   ],
   "metadata": {
    "collapsed": false
   }
  },
  {
   "cell_type": "code",
   "execution_count": null,
   "outputs": [],
   "source": [
    "sns.countplot(x='occupation', data=train_set).set_title(\"Occupation Count\")\n",
    "plt.xticks(rotation=65)\n",
    "plt.show()"
   ],
   "metadata": {
    "collapsed": false
   }
  },
  {
   "cell_type": "code",
   "execution_count": null,
   "outputs": [],
   "source": [
    "sns.histplot(train_set['income']).set_title(\"Income Distribution\")\n",
    "plt.show()"
   ],
   "metadata": {
    "collapsed": false
   }
  },
  {
   "cell_type": "code",
   "execution_count": null,
   "outputs": [],
   "source": [
    "sns.boxplot(x='income', y='age', data=train_set).set_title('Income Distribution by Age')\n",
    "plt.show()"
   ],
   "metadata": {
    "collapsed": false
   }
  },
  {
   "cell_type": "code",
   "execution_count": null,
   "outputs": [],
   "source": [
    "train_set['income'] = train_set['income'].str.strip()\n",
    "\n",
    "occupation_stat = train_set.groupby('occupation')['income'].value_counts().unstack()\n",
    "occupation_stat['total'] = occupation_stat.sum(axis=1)\n",
    "\n",
    "occupation_stat['>50K_propolation'] = occupation_stat['>50K'] / occupation_stat['total']\n",
    "occupation_stat['<=50K_propolation'] = occupation_stat['<=50K'] / occupation_stat['total']\n",
    "\n",
    "occupation_stat[['>50K_propolation', '<=50K_propolation']].plot(kind='barh', stacked=True)\n",
    "plt.title('Occupation Income Distribution')\n",
    "plt.xlabel('Proportion')\n",
    "plt.ylabel('Occupation')\n",
    "plt.show()"
   ],
   "metadata": {
    "collapsed": false
   }
  },
  {
   "cell_type": "markdown",
   "source": [
    "#Preprocessing"
   ],
   "metadata": {
    "collapsed": false
   }
  },
  {
   "cell_type": "code",
   "execution_count": null,
   "outputs": [],
   "source": [
    "# delete the useless column fnlwgt and education_num\n",
    "train_set.drop('fnlwgt', axis=1, inplace=True)\n",
    "test_set.drop('fnlwgt', axis=1, inplace=True)\n",
    "\n",
    "train_set.drop('education_num', axis=1, inplace=True)\n",
    "test_set.drop('education_num', axis=1, inplace=True)"
   ],
   "metadata": {
    "collapsed": false
   }
  },
  {
   "cell_type": "code",
   "execution_count": null,
   "outputs": [],
   "source": [
    "# Missing Value Check\n",
    "missing_values = train_set.isin([' ?']).sum()\n",
    "print('Train Set Missing Value Check')\n",
    "print(missing_values)\n",
    "print('\\n')\n",
    "\n",
    "print('Test Set Missing Value Check')\n",
    "missing_values = test_set.isin([' ?']).sum()\n",
    "print(missing_values)"
   ],
   "metadata": {
    "collapsed": false
   }
  },
  {
   "cell_type": "code",
   "execution_count": null,
   "outputs": [],
   "source": [
    "# Fill the unknown native country with \"Not Clear\"\n",
    "train_set.loc[train_set['native_country'].isin([' ?']),'native_country'] = ' Not Clear'\n",
    "test_set.loc[test_set['native_country'].isin([' ?']),'native_country'] = ' Not Clear'"
   ],
   "metadata": {
    "collapsed": false
   }
  },
  {
   "cell_type": "code",
   "execution_count": null,
   "outputs": [],
   "source": [
    "# Check the situation\n",
    "mask = train_set['occupation'].str.contains('\\?') | train_set['workclass'].str.contains('\\?')\n",
    "missing_data = train_set.loc[mask, ['occupation', 'workclass']]\n",
    "\n",
    "print(missing_data['occupation'].value_counts())\n",
    "print(missing_data['workclass'].value_counts())"
   ],
   "metadata": {
    "collapsed": false
   }
  },
  {
   "cell_type": "code",
   "execution_count": null,
   "outputs": [],
   "source": [
    "# Fill the ’Never-worked‘ with \"Not Clear\"\n",
    "train_set.loc[train_set['workclass'] == ' Never-worked', 'occupation'] = ' Not clear'\n",
    "test_set.loc[test_set['workclass'] == ' Never-worked', 'occupation'] = ' Not clear'"
   ],
   "metadata": {
    "collapsed": false
   }
  },
  {
   "cell_type": "code",
   "execution_count": null,
   "outputs": [],
   "source": [
    "age_count = train_set.loc[train_set['occupation'] == ' ?', 'age'].value_counts()\n",
    "\n",
    "print(age_count.to_string())"
   ],
   "metadata": {
    "collapsed": false
   }
  },
  {
   "cell_type": "code",
   "execution_count": null,
   "outputs": [],
   "source": [
    "# Suppose age <= 22 is student & age >= 60 is retired person\n",
    "\n",
    "train_set.loc[(train_set['age'] >= 60) & (train_set['occupation'] == ' ?') & (train_set['workclass'] == ' ?'), ['occupation', 'workclass']] = ' Retired'\n",
    "test_set.loc[(test_set['age'] >= 60) & (test_set['occupation'] == ' ?') & (test_set['workclass'] == ' ?'), ['occupation', 'workclass']] = ' Retired'\n",
    "\n",
    "train_set.loc[(train_set['age'] <= 22) & (train_set['occupation'] == ' ?') & (train_set['workclass'] == ' ?'), ['occupation', 'workclass']] = ' Student'\n",
    "test_set.loc[(test_set['age'] <= 22) & (test_set['occupation'] == ' ?') & (test_set['workclass'] == ' ?'), ['occupation', 'workclass']]"
   ],
   "metadata": {
    "collapsed": false
   }
  },
  {
   "cell_type": "code",
   "execution_count": null,
   "outputs": [],
   "source": [
    "# Set other situation to Not Clear\n",
    "train_set.loc[(train_set['occupation'] == ' ?') & (train_set['workclass'] == ' ?'), ['occupation', 'workclass']] = ' Not Clear'\n",
    "test_set.loc[ (test_set['occupation'] == ' ?') & (test_set['workclass'] == ' ?'), ['occupation', 'workclass']] = ' Not Clear'"
   ],
   "metadata": {
    "collapsed": false
   }
  },
  {
   "cell_type": "code",
   "execution_count": null,
   "outputs": [],
   "source": [
    "# Classify education\n",
    "train_set.loc[train_set['education'].isin([' Preschool', ' 1st-4th', ' 5th-6th']), 'education'] = ' Primary'\n",
    "train_set.loc[train_set['education'].isin([' 11th', ' 9th', ' 7th-8th', ' 10th',' 12th',' HS-grad']), 'education']= ' Secondary'\n",
    "\n",
    "test_set.loc[test_set['education'].isin([' Preschool', ' 1st-4th', ' 5th-6th']), 'education'] = ' Primary'\n",
    "test_set.loc[test_set['education'].isin([' 11th', ' 9th', ' 7th-8th', ' 10th',' 12th',' HS-grad']), 'education']= ' Secondary'\n",
    "\n",
    "# Classify marital_status\n",
    "\n",
    "train_set.loc[train_set['marital_status'].isin([' Married-civ-spouse', ' Married-spouse-absent', ' Married-AF-spouse']), 'marital_status'] = ' Married'\n",
    "train_set.loc[train_set['marital_status'].isin([' Never-married', ' Divorced', ' Separated', ' Widowed']), 'marital_status']= ' Non-Married'\n",
    "\n",
    "test_set.loc[test_set['marital_status'].isin([' Married-civ-spouse', ' Married-spouse-absent', ' Married-AF-spouse']), 'marital_status'] = ' Married'\n",
    "test_set.loc[test_set['marital_status'].isin([' Never-married', ' Divorced', ' Separated', ' Widowed']), 'marital_status']= ' Non-Married'"
   ],
   "metadata": {
    "collapsed": false
   }
  },
  {
   "cell_type": "code",
   "execution_count": null,
   "outputs": [],
   "source": [
    "# Convert continuous variable to discrete variable\n",
    "\n",
    "# Age\n",
    "bins = [0, 23, 30, 40, 50, 60, train_set['age'].max()]\n",
    "labels = ['<=22', '23-30', '31-40', '41-50', '50-59', '60+']\n",
    "train_set['age_category'] = pd.cut(train_set['age'], bins=bins, labels=labels)\n",
    "\n",
    "train_set = train_set.drop('age', axis=1)\n",
    "\n",
    "\n",
    "bins = [0, 23, 30, 40, 50, 60, test_set['age'].max()]\n",
    "labels = ['<=22', '23-30', '31-40', '41-50', '50-59', '60+']\n",
    "test_set['age_category'] = pd.cut(test_set['age'], bins=bins, labels=labels)\n",
    "\n",
    "test_set = test_set.drop('age', axis=1)\n",
    "\n",
    "# hours_per_week\n",
    "bins = [0, 39, 40, train_set['hours_per_week'].max()]\n",
    "labels = ['0-39', '40', '40+']\n",
    "train_set['hours_per_week_category'] = pd.cut(train_set['hours_per_week'], bins=bins, labels=labels)\n",
    "train_set = train_set.drop('hours_per_week', axis=1)\n",
    "\n",
    "\n",
    "bins = [0, 39, 40, test_set['hours_per_week'].max()]\n",
    "labels = ['0-39', '40', '40+']\n",
    "test_set['hours_per_week_category'] = pd.cut(test_set['hours_per_week'], bins=bins, labels=labels)\n",
    "\n",
    "test_set = test_set.drop('hours_per_week', axis=1)"
   ],
   "metadata": {
    "collapsed": false
   }
  },
  {
   "cell_type": "code",
   "execution_count": null,
   "outputs": [],
   "source": [
    "train_set.head()"
   ],
   "metadata": {
    "collapsed": false
   }
  },
  {
   "cell_type": "code",
   "execution_count": null,
   "outputs": [],
   "source": [
    "test_set.head()"
   ],
   "metadata": {
    "collapsed": false
   }
  },
  {
   "cell_type": "code",
   "execution_count": null,
   "outputs": [],
   "source": [
    "# OneHotEncode the discrete data\n",
    "\n",
    "One_Hot_Encoder = OneHotEncoder(sparse=False)\n",
    "onehot_cols = ['workclass', 'education', 'marital_status', 'occupation', 'relationship', 'race', 'sex', 'age_category', 'hours_per_week_category']\n",
    "onehot_encoded = One_Hot_Encoder.fit_transform(train_set[onehot_cols])\n",
    "train_set = pd.concat([train_set.drop(onehot_cols, axis=1), pd.DataFrame(onehot_encoded, columns=One_Hot_Encoder.get_feature_names_out(onehot_cols))], axis=1)\n",
    "\n",
    "One_Hot_Encoder = OneHotEncoder(sparse=False)\n",
    "onehot_cols = ['workclass', 'education', 'marital_status', 'occupation', 'relationship', 'race', 'sex', 'age_category', 'hours_per_week_category']\n",
    "onehot_encoded = One_Hot_Encoder.fit_transform(test_set[onehot_cols])\n",
    "test_set = pd.concat([test_set.drop(onehot_cols, axis=1), pd.DataFrame(onehot_encoded, columns=One_Hot_Encoder.get_feature_names_out(onehot_cols))], axis=1)"
   ],
   "metadata": {
    "collapsed": false
   }
  },
  {
   "cell_type": "code",
   "execution_count": null,
   "outputs": [],
   "source": [
    "# LabelEncode the income data\n",
    "Label_Encoder = LabelEncoder()\n",
    "\n",
    "train_set[['native_country', 'income']] = train_set[['native_country', 'income']].apply(Label_Encoder.fit_transform)\n",
    "\n",
    "Label_Encoder = LabelEncoder()\n",
    "test_set[['native_country', 'income']] = test_set[['native_country', 'income']].apply(Label_Encoder.fit_transform)"
   ],
   "metadata": {
    "collapsed": false
   }
  },
  {
   "cell_type": "code",
   "execution_count": null,
   "outputs": [],
   "source": [
    "train_set.head()"
   ],
   "metadata": {
    "collapsed": false
   }
  },
  {
   "cell_type": "markdown",
   "source": [
    "#Model"
   ],
   "metadata": {
    "collapsed": false
   }
  },
  {
   "cell_type": "code",
   "execution_count": null,
   "outputs": [],
   "source": [
    "train_set_without_income = train_set.drop(['income'], axis=1)\n",
    "test_set_without_income = test_set.drop(['income'], axis=1)\n",
    "\n",
    "x_train, y_train = train_set_without_income.values, train_set['income'].values\n",
    "x_test, y_test = test_set_without_income.values, test_set['income'].values\n",
    "\n",
    "# Consider doing a mixed sampling however it dramatically decreases the accuracy\n",
    "# ros = SMOTETomek(random_state=42)\n",
    "# X_resampled, y_resampled = ros.fit_resample(x_train, y_train)"
   ],
   "metadata": {
    "collapsed": false
   }
  },
  {
   "cell_type": "markdown",
   "source": [
    "#Decision Tree"
   ],
   "metadata": {
    "collapsed": false
   }
  },
  {
   "cell_type": "code",
   "execution_count": null,
   "outputs": [],
   "source": [
    "depths = []\n",
    "\n",
    "for i in range(1,50):\n",
    "    classifier = DecisionTreeClassifier(criterion=\"gini\",max_depth=i,random_state=42, splitter=\"best\").fit(x_train, y_train)\n",
    "    y_pred = classifier.predict(x_test)\n",
    "    score = accuracy_score(y_test, y_pred)\n",
    "    depths.append(score)\n",
    "\n",
    "plt.plot(range(1,50), depths)\n",
    "plt.xlabel('Depth')\n",
    "plt.ylabel('Accuracy')\n",
    "plt.show()"
   ],
   "metadata": {
    "collapsed": false
   }
  },
  {
   "cell_type": "code",
   "execution_count": null,
   "outputs": [],
   "source": [
    "start=time.time()\n",
    "classifier = DecisionTreeClassifier(criterion=\"gini\",max_depth=12,random_state=42, splitter=\"best\").fit(x_train, y_train)\n",
    "end=time.time()\n",
    "\n",
    "print('DT Trainning time: %s Seconds'%(end-start))\n",
    "\n",
    "start=time.time()\n",
    "y_pred = classifier.predict(x_test)\n",
    "end=time.time()\n",
    "\n",
    "print('DT Predicting time: %s Seconds'%(end-start))\n",
    "\n",
    "print(classification_report(y_test, y_pred))"
   ],
   "metadata": {
    "collapsed": false
   }
  },
  {
   "cell_type": "code",
   "execution_count": null,
   "outputs": [],
   "source": [
    "cm = confusion_matrix(y_test, y_pred)\n",
    "\n",
    "plt.imshow(cm, cmap=plt.cm.Blues)\n",
    "plt.title('Confusion matrix')\n",
    "plt.colorbar()\n",
    "plt.xlabel('Predicted')\n",
    "plt.ylabel('True')\n",
    "plt.xticks([0, 1], ['0', '1'])\n",
    "plt.yticks([0, 1], ['0', '1'])\n",
    "\n",
    "# Display the plot\n",
    "plt.show()"
   ],
   "metadata": {
    "collapsed": false
   }
  },
  {
   "cell_type": "code",
   "execution_count": null,
   "outputs": [],
   "source": [
    "fpr, tpr, thresholds = roc_curve(y_test, y_pred)\n",
    "auc_score = roc_auc_score(y_test, y_pred)\n",
    "\n",
    "plt.plot(fpr, tpr, label=f'AUC = {auc_score:.2f}')\n",
    "plt.plot([0, 1], [0, 1], linestyle='--')\n",
    "plt.xlabel('False Positive Rate')\n",
    "plt.ylabel('True Positive Rate')\n",
    "plt.title('AUC Curve')\n",
    "plt.legend()\n",
    "\n",
    "plt.show()"
   ],
   "metadata": {
    "collapsed": false
   }
  },
  {
   "cell_type": "markdown",
   "source": [
    "#KNN"
   ],
   "metadata": {
    "collapsed": false
   }
  },
  {
   "cell_type": "code",
   "execution_count": null,
   "outputs": [],
   "source": [
    "neighbors = []\n",
    "\n",
    "for i in range(1,30):\n",
    "    knn = KNeighborsClassifier(n_neighbors=i).fit(x_train, y_train)\n",
    "    y_pred = knn.predict(x_test)\n",
    "    score = accuracy_score(y_test, y_pred)\n",
    "    neighbors.append(score)\n",
    "\n",
    "plt.plot(range(1,30), neighbors)\n",
    "plt.xlabel('Depth')\n",
    "plt.ylabel('Accuracy')\n",
    "plt.show()"
   ],
   "metadata": {
    "collapsed": false
   }
  },
  {
   "cell_type": "code",
   "execution_count": null,
   "outputs": [],
   "source": [
    "neighbors = []\n",
    "\n",
    "for i in range(1,4):\n",
    "    knn = KNeighborsClassifier(n_neighbors=28, p=i).fit(x_train, y_train)\n",
    "    y_pred = knn.predict(x_test)\n",
    "    score = accuracy_score(y_test, y_pred)\n",
    "    neighbors.append(score)\n",
    "\n",
    "plt.plot(range(1,4), neighbors)\n",
    "plt.xlabel('Depth')\n",
    "plt.ylabel('Accuracy')\n",
    "plt.show()"
   ],
   "metadata": {
    "collapsed": false
   }
  },
  {
   "cell_type": "code",
   "execution_count": null,
   "outputs": [],
   "source": [
    "knn = KNeighborsClassifier(n_neighbors=28, p=2).fit(x_train, y_train)\n",
    "y_pred = knn.predict(x_test)\n",
    "print(classification_report(y_test, y_pred))"
   ],
   "metadata": {
    "collapsed": false
   }
  },
  {
   "cell_type": "code",
   "execution_count": null,
   "outputs": [],
   "source": [
    "cm = confusion_matrix(y_test, y_pred)\n",
    "\n",
    "plt.imshow(cm, cmap=plt.cm.Blues)\n",
    "plt.title('Confusion matrix')\n",
    "plt.colorbar()\n",
    "plt.xlabel('Predicted')\n",
    "plt.ylabel('True')\n",
    "plt.xticks([0, 1], ['0', '1'])\n",
    "plt.yticks([0, 1], ['0', '1'])\n",
    "\n",
    "# Display the plot\n",
    "plt.show()"
   ],
   "metadata": {
    "collapsed": false
   }
  },
  {
   "cell_type": "code",
   "execution_count": null,
   "outputs": [],
   "source": [
    "fpr, tpr, thresholds = roc_curve(y_test, y_pred)\n",
    "auc_score = roc_auc_score(y_test, y_pred)\n",
    "\n",
    "plt.plot(fpr, tpr, label=f'AUC = {auc_score:.2f}')\n",
    "plt.plot([0, 1], [0, 1], linestyle='--')\n",
    "plt.xlabel('False Positive Rate')\n",
    "plt.ylabel('True Positive Rate')\n",
    "plt.title('AUC Curve')\n",
    "plt.legend()\n",
    "\n",
    "plt.show()"
   ],
   "metadata": {
    "collapsed": false
   }
  }
 ],
 "metadata": {
  "kernelspec": {
   "display_name": "Python 3",
   "language": "python",
   "name": "python3"
  },
  "language_info": {
   "codemirror_mode": {
    "name": "ipython",
    "version": 2
   },
   "file_extension": ".py",
   "mimetype": "text/x-python",
   "name": "python",
   "nbconvert_exporter": "python",
   "pygments_lexer": "ipython2",
   "version": "2.7.6"
  }
 },
 "nbformat": 4,
 "nbformat_minor": 0
}
